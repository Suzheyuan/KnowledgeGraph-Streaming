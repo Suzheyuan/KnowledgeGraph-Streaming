{
 "cells": [
  {
   "cell_type": "code",
   "execution_count": null,
   "metadata": {
    "collapsed": true
   },
   "outputs": [],
   "source": [
    "import pandas as pd\n",
    "import tqdm"
   ]
  },
  {
   "cell_type": "code",
   "execution_count": 183,
   "outputs": [],
   "source": [
    "df_amazon = pd.read_csv('E:\\\\PycharmProjects\\\\KnowledgeGraph-Streaming\\\\data\\\\amazon100.csv')\n",
    "df_disney = pd.read_csv('E:\\\\PycharmProjects\\\\KnowledgeGraph-Streaming\\\\data\\\\disney100.csv')\n",
    "df_netflix = pd.read_csv('E:\\\\PycharmProjects\\\\KnowledgeGraph-Streaming\\\\data\\\\netflix100.csv')\n",
    "df_hulu = pd.read_csv('E:\\\\PycharmProjects\\\\KnowledgeGraph-Streaming\\\\data\\\\hulu100.csv')\n"
   ],
   "metadata": {
    "collapsed": false,
    "pycharm": {
     "name": "#%%\n"
    }
   }
  },
  {
   "cell_type": "code",
   "execution_count": 139,
   "outputs": [
    {
     "name": "stderr",
     "output_type": "stream",
     "text": [
      "51it [06:10,  6.54s/it]\n"
     ]
    }
   ],
   "source": [
    "df_people = pd.read_csv('E:\\\\PycharmProjects\\\\test\\\\title.principals.tsv.gz', sep=\"[\\t]\",\n",
    "                     chunksize=1000_000, engine='python')\n",
    "\n",
    "df_amazon_people = pd.DataFrame()\n",
    "for df in tqdm.tqdm(df_people):\n",
    "    df_new = df[df['nconst'].isin(df_amazon['title_id'])]\n",
    "    df_amazon_people = pd.concat([df_amazon_people, df_new])\n"
   ],
   "metadata": {
    "collapsed": false,
    "pycharm": {
     "name": "#%%\n"
    }
   }
  },
  {
   "cell_type": "code",
   "execution_count": null,
   "outputs": [],
   "source": [
    "df_people = pd.read_csv('E:\\\\PycharmProjects\\\\test\\\\title.principals.tsv.gz', sep=\"[\\t]\",\n",
    "                     chunksize=1000_000, engine='python')\n",
    "\n",
    "df_disney_people = pd.DataFrame()\n",
    "for df in tqdm.tqdm(df_people):\n",
    "    df_new = df[df['nconst'].isin(df_disney['title_id'])]\n",
    "    df_disney_people = pd.concat([df_disney_people, df_new])\n",
    "\n"
   ],
   "metadata": {
    "collapsed": false,
    "pycharm": {
     "name": "#%%\n"
    }
   }
  },
  {
   "cell_type": "code",
   "execution_count": null,
   "outputs": [],
   "source": [
    "df_people = pd.read_csv('E:\\\\PycharmProjects\\\\test\\\\title.principals.tsv.gz', sep=\"[\\t]\",\n",
    "                     chunksize=1000_000, engine='python')\n",
    "\n",
    "df_netflix_people = pd.DataFrame()\n",
    "for df in tqdm.tqdm(df_people):\n",
    "    df_new = df[df['nconst'].isin(df_netflix['title_id'])]\n",
    "    df_netflix_people = pd.concat([df_netflix_people, df_new])\n"
   ],
   "metadata": {
    "collapsed": false,
    "pycharm": {
     "name": "#%%\n"
    }
   }
  },
  {
   "cell_type": "code",
   "execution_count": null,
   "outputs": [],
   "source": [
    "df_people = pd.read_csv('E:\\\\PycharmProjects\\\\test\\\\title.principals.tsv.gz', sep=\"[\\t]\",\n",
    "                     chunksize=1000_000, engine='python')\n",
    "\n",
    "df_hulu_people = pd.DataFrame()\n",
    "for df in tqdm.tqdm(df_people):\n",
    "    df_new = df[df['nconst'].isin(df_hulu['title_id'])]\n",
    "    df_hulu_people = pd.concat([df_hulu_people, df_new])\n"
   ],
   "metadata": {
    "collapsed": false,
    "pycharm": {
     "name": "#%%\n"
    }
   }
  },
  {
   "cell_type": "code",
   "execution_count": null,
   "outputs": [],
   "source": [
    "df_amazon_people.to_csv( 'amazon_people.csv',index=None)\n",
    "df_disney_people.to_csv( 'disney_people.csv',index=None)\n",
    "df_netflix_people.to_csv( 'netflix_people.csv',index=None)\n",
    "df_hulu_people.to_csv( 'hulu_people.csv',index=None)\n"
   ],
   "metadata": {
    "collapsed": false,
    "pycharm": {
     "name": "#%%\n"
    }
   }
  },
  {
   "cell_type": "code",
   "execution_count": 140,
   "outputs": [],
   "source": [
    "# if you have run the above code, you can read them directly\n",
    "df_amazon_people = pd.read_csv('E:\\\\PycharmProjects\\\\KnowledgeGraph-Streaming\\\\data\\\\amazon_people.csv')\n",
    "df_disney_people = pd.read_csv('E:\\\\PycharmProjects\\\\KnowledgeGraph-Streaming\\\\data\\\\disney_people.csv')\n",
    "df_netflix_people = pd.read_csv('E:\\\\PycharmProjects\\\\KnowledgeGraph-Streaming\\\\data\\\\netflix_people.csv')\n",
    "df_hulu_people = pd.read_csv('E:\\\\PycharmProjects\\\\KnowledgeGraph-Streaming\\\\data\\\\hulu_people.csv')\n"
   ],
   "metadata": {
    "collapsed": false,
    "pycharm": {
     "name": "#%%\n"
    }
   }
  },
  {
   "cell_type": "code",
   "execution_count": 174,
   "outputs": [],
   "source": [
    "df_act = pd.DataFrame()\n",
    "df_direct = pd.DataFrame()\n",
    "df_write = pd.DataFrame()\n",
    "for df in [df_amazon_people, df_disney_people, df_netflix_people, df_hulu_people]:\n",
    "    df_act = pd.concat([df_act, df[df['category'].isin(['actor','actress'])]])\n",
    "    df_direct = pd.concat([df_direct, df[df['category']=='director']])\n",
    "    df_write = pd.concat([df_write, df[df['category']=='writer']])"
   ],
   "metadata": {
    "collapsed": false,
    "pycharm": {
     "name": "#%%\n"
    }
   }
  },
  {
   "cell_type": "code",
   "execution_count": 175,
   "outputs": [],
   "source": [
    "df_act = df_act[['nconst','tconst']]\n",
    "df_direct = df_direct[['nconst','tconst']]\n",
    "df_write = df_write[['nconst','tconst']]"
   ],
   "metadata": {
    "collapsed": false,
    "pycharm": {
     "name": "#%%\n"
    }
   }
  },
  {
   "cell_type": "code",
   "execution_count": 176,
   "outputs": [],
   "source": [
    "df_act.to_csv('E:\\\\PycharmProjects\\\\KnowledgeGraph-Streaming\\\\data\\\\act.csv', index=None)\n",
    "df_direct.to_csv('E:\\\\PycharmProjects\\\\KnowledgeGraph-Streaming\\\\data\\\\direct.csv', index=None)\n",
    "df_write.to_csv('E:\\\\PycharmProjects\\\\KnowledgeGraph-Streaming\\\\data\\\\write.csv', index=None)\n",
    "######## act, direct and write relation done!! ################"
   ],
   "metadata": {
    "collapsed": false,
    "pycharm": {
     "name": "#%%\n"
    }
   }
  },
  {
   "cell_type": "code",
   "execution_count": 201,
   "outputs": [],
   "source": [
    "### concat movie and person from 4 services\n",
    "df_amazon = pd.read_csv('E:\\\\PycharmProjects\\\\KnowledgeGraph-Streaming\\\\data\\\\amazon100.csv')\n",
    "df_disney = pd.read_csv('E:\\\\PycharmProjects\\\\KnowledgeGraph-Streaming\\\\data\\\\disney100.csv')\n",
    "df_netflix = pd.read_csv('E:\\\\PycharmProjects\\\\KnowledgeGraph-Streaming\\\\data\\\\netflix100.csv')\n",
    "df_hulu = pd.read_csv('E:\\\\PycharmProjects\\\\KnowledgeGraph-Streaming\\\\data\\\\hulu100.csv')\n",
    "\n",
    "df_movie = pd.DataFrame()\n",
    "for df in [df_amazon, df_hulu, df_netflix, df_disney]:\n",
    "    df_movie = pd.concat([df_movie, df])\n",
    "df_movie.drop(columns=['Unnamed: 0'],inplace=True)"
   ],
   "metadata": {
    "collapsed": false,
    "pycharm": {
     "name": "#%%\n"
    }
   }
  },
  {
   "cell_type": "code",
   "execution_count": 202,
   "outputs": [],
   "source": [
    "df_movie.to_csv('E:\\\\PycharmProjects\\\\KnowledgeGraph-Streaming\\\\data\\\\movie.csv', index=None)\n",
    "\n"
   ],
   "metadata": {
    "collapsed": false,
    "pycharm": {
     "name": "#%%\n"
    }
   }
  },
  {
   "cell_type": "code",
   "execution_count": 169,
   "outputs": [],
   "source": [
    "df_people2 = pd.read_csv('E:\\\\PycharmProjects\\\\test\\\\People Nabirth.csv')\n",
    "\n",
    "\n",
    "df_person = pd.DataFrame()\n",
    "for df in [df_amazon_people, df_hulu_people, df_netflix_people, df_disney_people]:\n",
    "    df_person = pd.concat([df_person, df_people2[df_people2['nconst'].isin(df['nconst'])]])\n",
    "# df_person.drop(columns=['Unnamed: 0'],inplace=True)\n",
    "df_person = df_person.drop_duplicates()"
   ],
   "metadata": {
    "collapsed": false,
    "pycharm": {
     "name": "#%%\n"
    }
   }
  },
  {
   "cell_type": "code",
   "execution_count": 173,
   "outputs": [],
   "source": [
    "df_person.to_csv('E:\\\\PycharmProjects\\\\KnowledgeGraph-Streaming\\\\data\\\\person.csv', index=None)"
   ],
   "metadata": {
    "collapsed": false,
    "pycharm": {
     "name": "#%%\n"
    }
   }
  },
  {
   "cell_type": "code",
   "execution_count": 200,
   "outputs": [
    {
     "data": {
      "text/plain": "2"
     },
     "execution_count": 200,
     "metadata": {},
     "output_type": "execute_result"
    }
   ],
   "source": [
    "df_movie.duplicated().sum()\n"
   ],
   "metadata": {
    "collapsed": false,
    "pycharm": {
     "name": "#%%\n"
    }
   }
  }
 ],
 "metadata": {
  "kernelspec": {
   "display_name": "Python 3",
   "language": "python",
   "name": "python3"
  },
  "language_info": {
   "codemirror_mode": {
    "name": "ipython",
    "version": 2
   },
   "file_extension": ".py",
   "mimetype": "text/x-python",
   "name": "python",
   "nbconvert_exporter": "python",
   "pygments_lexer": "ipython2",
   "version": "2.7.6"
  }
 },
 "nbformat": 4,
 "nbformat_minor": 0
}