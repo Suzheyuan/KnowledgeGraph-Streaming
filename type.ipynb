{
 "cells": [
  {
   "cell_type": "code",
   "execution_count": 1,
   "id": "d01cac7d",
   "metadata": {},
   "outputs": [],
   "source": [
    "import pandas as pd\n",
    "import numpy as np\n",
    "bigT = pd.read_csv('./title.akas.tsv',sep='\\t',low_memory=False,usecols=['titleId','title','types'])"
   ]
  },
  {
   "cell_type": "code",
   "execution_count": 4,
   "id": "ca2face7",
   "metadata": {},
   "outputs": [],
   "source": [
    "import pandasql\n",
    "from pandas import Series, DataFrame\n",
    "f1 = DataFrame(bigT)\n",
    "res = pandasql.sqldf('select distinct(f1.types) from f1',globals())\n",
    "res.to_csv(\"./3.csv\")"
   ]
  }
 ],
 "metadata": {
  "kernelspec": {
   "display_name": "Python 3 (ipykernel)",
   "language": "python",
   "name": "python3"
  },
  "language_info": {
   "codemirror_mode": {
    "name": "ipython",
    "version": 3
   },
   "file_extension": ".py",
   "mimetype": "text/x-python",
   "name": "python",
   "nbconvert_exporter": "python",
   "pygments_lexer": "ipython3",
   "version": "3.9.12"
  }
 },
 "nbformat": 4,
 "nbformat_minor": 5
}
