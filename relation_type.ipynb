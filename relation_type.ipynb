{
 "cells": [
  {
   "cell_type": "code",
   "execution_count": 62,
   "id": "d01cac7d",
   "metadata": {},
   "outputs": [],
   "source": [
    "import pandas as pd\n",
    "import numpy as np\n",
    "titled1 = pd.read_csv('1.csv',usecols=['titleId','types'])\n",
    "typesTab = pd.read_csv('3.csv')\n",
    "typesTab.columns = ['t_index','types']"
   ]
  },
  {
   "cell_type": "code",
   "execution_count": 64,
   "id": "ca2face7",
   "metadata": {},
   "outputs": [],
   "source": [
    "import pandasql\n",
    "from pandas import Series, DataFrame\n",
    "f1 = DataFrame(titled1)\n",
    "res = pandasql.sqldf('select f1.titleId,typesTab.t_index from f1 join typesTab on f1.types = typesTab.types',globals())\n",
    "res.to_csv(\"./5.csv\",index=False)"
   ]
  }
 ],
 "metadata": {
  "kernelspec": {
   "display_name": "Python 3 (ipykernel)",
   "language": "python",
   "name": "python3"
  },
  "language_info": {
   "codemirror_mode": {
    "name": "ipython",
    "version": 3
   },
   "file_extension": ".py",
   "mimetype": "text/x-python",
   "name": "python",
   "nbconvert_exporter": "python",
   "pygments_lexer": "ipython3",
   "version": "3.9.12"
  }
 },
 "nbformat": 4,
 "nbformat_minor": 5
}
