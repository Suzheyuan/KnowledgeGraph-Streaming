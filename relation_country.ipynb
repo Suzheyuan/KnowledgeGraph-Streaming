{
 "cells": [
  {
   "cell_type": "code",
   "execution_count": 4,
   "id": "d01cac7d",
   "metadata": {},
   "outputs": [],
   "source": [
    "import pandas as pd\n",
    "import numpy as np\n",
    "titled1 = pd.read_csv('2.csv',usecols=['titleId','country'])\n",
    "countryTab = pd.read_csv('4.csv')\n",
    "countryTab.columns = ['c_index','country']"
   ]
  },
  {
   "cell_type": "code",
   "execution_count": 6,
   "id": "ca2face7",
   "metadata": {},
   "outputs": [],
   "source": [
    "import pandasql\n",
    "from pandas import Series, DataFrame\n",
    "f1 = DataFrame(titled1)\n",
    "res = pandasql.sqldf('select f1.titleId,countryTab.c_index from f1 join countryTab on f1.country = countryTab.country',globals())\n",
    "res.to_csv(\"./6.csv\",index=False)"
   ]
  }
 ],
 "metadata": {
  "kernelspec": {
   "display_name": "Python 3 (ipykernel)",
   "language": "python",
   "name": "python3"
  },
  "language_info": {
   "codemirror_mode": {
    "name": "ipython",
    "version": 3
   },
   "file_extension": ".py",
   "mimetype": "text/x-python",
   "name": "python",
   "nbconvert_exporter": "python",
   "pygments_lexer": "ipython3",
   "version": "3.9.12"
  }
 },
 "nbformat": 4,
 "nbformat_minor": 5
}
